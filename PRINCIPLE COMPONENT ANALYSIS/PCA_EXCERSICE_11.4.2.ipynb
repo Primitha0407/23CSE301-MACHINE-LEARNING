{
  "nbformat": 4,
  "nbformat_minor": 0,
  "metadata": {
    "colab": {
      "provenance": []
    },
    "kernelspec": {
      "name": "python3",
      "display_name": "Python 3"
    },
    "language_info": {
      "name": "python"
    }
  },
  "cells": [
    {
      "cell_type": "code",
      "source": [
        "import pandas as pd"
      ],
      "metadata": {
        "id": "teylLBHyi8-C"
      },
      "execution_count": 9,
      "outputs": []
    },
    {
      "cell_type": "code",
      "source": [
        "df = pd.read_csv(\"pca_data.csv\")"
      ],
      "metadata": {
        "id": "-zVL-oLZjCdd"
      },
      "execution_count": 10,
      "outputs": []
    },
    {
      "cell_type": "code",
      "source": [
        "df.set_index('Variable', inplace=True)"
      ],
      "metadata": {
        "id": "-v0bTGF5jFV7"
      },
      "execution_count": 11,
      "outputs": []
    },
    {
      "cell_type": "code",
      "source": [
        "df['abs_PC1'] = df['PC1'].abs()"
      ],
      "metadata": {
        "id": "9lIqHx3ujHCD"
      },
      "execution_count": 12,
      "outputs": []
    },
    {
      "cell_type": "code",
      "source": [
        "most_contributing_var = df['abs_PC1'].idxmax()  # Variable with max value in PC1\n",
        "max_contribution = df['abs_PC1'].max()"
      ],
      "metadata": {
        "id": "AkE7YVCBjKdd"
      },
      "execution_count": 13,
      "outputs": []
    },
    {
      "cell_type": "code",
      "source": [
        "print(f\"The variable contributing most to Principal Component 1 (PC1) is: {most_contributing_var}\")\n",
        "print(f\"Contribution value: {max_contribution}\")"
      ],
      "metadata": {
        "colab": {
          "base_uri": "https://localhost:8080/"
        },
        "id": "qmNCKkwajP9Q",
        "outputId": "a86c871e-2bb9-4f94-9464-b54939d4d5a4"
      },
      "execution_count": 14,
      "outputs": [
        {
          "output_type": "stream",
          "name": "stdout",
          "text": [
            "The variable contributing most to Principal Component 1 (PC1) is: Arts\n",
            "Contribution value: 0.985\n"
          ]
        }
      ]
    }
  ]
}