{
  "nbformat": 4,
  "nbformat_minor": 0,
  "metadata": {
    "colab": {
      "provenance": []
    },
    "kernelspec": {
      "name": "python3",
      "display_name": "Python 3"
    },
    "language_info": {
      "name": "python"
    }
  },
  "cells": [
    {
      "cell_type": "code",
      "execution_count": 13,
      "metadata": {
        "id": "s8expXWWl4ah"
      },
      "outputs": [],
      "source": [
        "import pandas as pd\n",
        "import statsmodels.api as sm\n"
      ]
    },
    {
      "cell_type": "code",
      "source": [
        "data = pd.read_csv('medical.csv')\n",
        "print(\"Columns:\", data.columns.tolist())\n"
      ],
      "metadata": {
        "colab": {
          "base_uri": "https://localhost:8080/"
        },
        "id": "-U_uIBxqon1a",
        "outputId": "f6775d01-440c-42b9-eb4e-320011b8db9e"
      },
      "execution_count": 14,
      "outputs": [
        {
          "output_type": "stream",
          "name": "stdout",
          "text": [
            "Columns: ['Disease', 'Age', 'Gender', 'Smoker status']\n"
          ]
        }
      ]
    },
    {
      "cell_type": "code",
      "source": [
        "data.columns = data.columns.str.strip().str.lower().str.replace(\" \", \"_\")\n"
      ],
      "metadata": {
        "id": "YVUtA0ReoqQS"
      },
      "execution_count": 15,
      "outputs": []
    },
    {
      "cell_type": "code",
      "source": [
        "data['disease'] = data['disease'].map({'diseased': 1, 'not diseased': 0})\n"
      ],
      "metadata": {
        "id": "1Kw4cyZPotDW"
      },
      "execution_count": 16,
      "outputs": []
    },
    {
      "cell_type": "code",
      "source": [
        "data = pd.get_dummies(data, columns=['gender', 'smoker_status'], drop_first=True)\n"
      ],
      "metadata": {
        "id": "oi0YIq81oxUR"
      },
      "execution_count": 17,
      "outputs": []
    },
    {
      "cell_type": "code",
      "source": [
        "y = data['disease']\n",
        "X = data.drop(columns=['disease'])\n",
        "X = sm.add_constant(X)\n"
      ],
      "metadata": {
        "id": "ob3S0X3Ro0bV"
      },
      "execution_count": 18,
      "outputs": []
    },
    {
      "cell_type": "code",
      "source": [
        "X = X.astype(float)\n",
        "y = y.astype(float)\n"
      ],
      "metadata": {
        "id": "XF8DvGBKo3ma"
      },
      "execution_count": 19,
      "outputs": []
    },
    {
      "cell_type": "code",
      "source": [
        "model = sm.Logit(y, X)\n",
        "result = model.fit()\n"
      ],
      "metadata": {
        "colab": {
          "base_uri": "https://localhost:8080/"
        },
        "id": "_niM3Xwpo9PA",
        "outputId": "1f88c4b6-46e7-47e5-edbb-904f19428681"
      },
      "execution_count": 20,
      "outputs": [
        {
          "output_type": "stream",
          "name": "stdout",
          "text": [
            "Optimization terminated successfully.\n",
            "         Current function value: 0.564857\n",
            "         Iterations 6\n"
          ]
        }
      ]
    },
    {
      "cell_type": "code",
      "source": [
        "print(result.summary())\n"
      ],
      "metadata": {
        "id": "MzaxVJ2JpAus",
        "outputId": "47cd5241-4c8d-4291-e9b7-12389ff2b3b3",
        "colab": {
          "base_uri": "https://localhost:8080/"
        }
      },
      "execution_count": 21,
      "outputs": [
        {
          "output_type": "stream",
          "name": "stdout",
          "text": [
            "                           Logit Regression Results                           \n",
            "==============================================================================\n",
            "Dep. Variable:                disease   No. Observations:                   36\n",
            "Model:                          Logit   Df Residuals:                       32\n",
            "Method:                           MLE   Df Model:                            3\n",
            "Date:                Wed, 30 Jul 2025   Pseudo R-squ.:                  0.1777\n",
            "Time:                        18:41:35   Log-Likelihood:                -20.335\n",
            "converged:                       True   LL-Null:                       -24.731\n",
            "Covariance Type:            nonrobust   LLR p-value:                   0.03219\n",
            "========================================================================================\n",
            "                           coef    std err          z      P>|z|      [0.025      0.975]\n",
            "----------------------------------------------------------------------------------------\n",
            "const                   -2.7290      1.261     -2.164      0.030      -5.200      -0.258\n",
            "age                      0.0433      0.026      1.684      0.092      -0.007       0.094\n",
            "gender_Male              0.8696      0.805      1.080      0.280      -0.708       2.447\n",
            "smoker_status_Smoker     1.3369      0.786      1.701      0.089      -0.203       2.877\n",
            "========================================================================================\n"
          ]
        }
      ]
    }
  ]
}