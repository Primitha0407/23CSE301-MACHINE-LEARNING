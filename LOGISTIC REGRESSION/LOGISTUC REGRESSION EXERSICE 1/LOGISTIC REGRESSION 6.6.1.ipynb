{
  "nbformat": 4,
  "nbformat_minor": 0,
  "metadata": {
    "colab": {
      "provenance": []
    },
    "kernelspec": {
      "name": "python3",
      "display_name": "Python 3"
    },
    "language_info": {
      "name": "python"
    }
  },
  "cells": [
    {
      "cell_type": "code",
      "execution_count": 1,
      "metadata": {
        "colab": {
          "base_uri": "https://localhost:8080/"
        },
        "id": "wVAoDDTQKTFA",
        "outputId": "c9ee581c-70d8-4e21-81fd-3bb8f3c56d06"
      },
      "outputs": [
        {
          "output_type": "stream",
          "name": "stdout",
          "text": [
            "Requirement already satisfied: pandas in /usr/local/lib/python3.11/dist-packages (2.2.2)\n",
            "Requirement already satisfied: statsmodels in /usr/local/lib/python3.11/dist-packages (0.14.5)\n",
            "Requirement already satisfied: seaborn in /usr/local/lib/python3.11/dist-packages (0.13.2)\n",
            "Requirement already satisfied: numpy>=1.23.2 in /usr/local/lib/python3.11/dist-packages (from pandas) (2.0.2)\n",
            "Requirement already satisfied: python-dateutil>=2.8.2 in /usr/local/lib/python3.11/dist-packages (from pandas) (2.9.0.post0)\n",
            "Requirement already satisfied: pytz>=2020.1 in /usr/local/lib/python3.11/dist-packages (from pandas) (2025.2)\n",
            "Requirement already satisfied: tzdata>=2022.7 in /usr/local/lib/python3.11/dist-packages (from pandas) (2025.2)\n",
            "Requirement already satisfied: scipy!=1.9.2,>=1.8 in /usr/local/lib/python3.11/dist-packages (from statsmodels) (1.16.0)\n",
            "Requirement already satisfied: patsy>=0.5.6 in /usr/local/lib/python3.11/dist-packages (from statsmodels) (1.0.1)\n",
            "Requirement already satisfied: packaging>=21.3 in /usr/local/lib/python3.11/dist-packages (from statsmodels) (25.0)\n",
            "Requirement already satisfied: matplotlib!=3.6.1,>=3.4 in /usr/local/lib/python3.11/dist-packages (from seaborn) (3.10.0)\n",
            "Requirement already satisfied: contourpy>=1.0.1 in /usr/local/lib/python3.11/dist-packages (from matplotlib!=3.6.1,>=3.4->seaborn) (1.3.2)\n",
            "Requirement already satisfied: cycler>=0.10 in /usr/local/lib/python3.11/dist-packages (from matplotlib!=3.6.1,>=3.4->seaborn) (0.12.1)\n",
            "Requirement already satisfied: fonttools>=4.22.0 in /usr/local/lib/python3.11/dist-packages (from matplotlib!=3.6.1,>=3.4->seaborn) (4.59.0)\n",
            "Requirement already satisfied: kiwisolver>=1.3.1 in /usr/local/lib/python3.11/dist-packages (from matplotlib!=3.6.1,>=3.4->seaborn) (1.4.8)\n",
            "Requirement already satisfied: pillow>=8 in /usr/local/lib/python3.11/dist-packages (from matplotlib!=3.6.1,>=3.4->seaborn) (11.3.0)\n",
            "Requirement already satisfied: pyparsing>=2.3.1 in /usr/local/lib/python3.11/dist-packages (from matplotlib!=3.6.1,>=3.4->seaborn) (3.2.3)\n",
            "Requirement already satisfied: six>=1.5 in /usr/local/lib/python3.11/dist-packages (from python-dateutil>=2.8.2->pandas) (1.17.0)\n"
          ]
        }
      ],
      "source": [
        "pip install pandas statsmodels seaborn\n"
      ]
    },
    {
      "cell_type": "code",
      "source": [
        "import pandas as pd\n",
        "import statsmodels.api as sm\n",
        "import numpy as np\n",
        "import seaborn as sns\n",
        "import matplotlib.pyplot as plt\n",
        "\n"
      ],
      "metadata": {
        "id": "VJ3KiWymLsI8"
      },
      "execution_count": 4,
      "outputs": []
    },
    {
      "cell_type": "code",
      "source": [
        "# 2. Load the dataset from URL\n",
        "url = \"https://stats.idre.ucla.edu/stat/stata/dae/binary.dta\"\n",
        "data = pd.read_stata(url)\n",
        "\n",
        "# Show first few rows\n",
        "print(data.head())\n"
      ],
      "metadata": {
        "colab": {
          "base_uri": "https://localhost:8080/"
        },
        "id": "LeMHOr-8L49h",
        "outputId": "5246f04a-4b8c-47cc-f694-e49d8eef832f"
      },
      "execution_count": 9,
      "outputs": [
        {
          "output_type": "stream",
          "name": "stdout",
          "text": [
            "   admit    gre   gpa  rank\n",
            "0    0.0  380.0  3.61   3.0\n",
            "1    1.0  660.0  3.67   3.0\n",
            "2    1.0  800.0  4.00   1.0\n",
            "3    1.0  640.0  3.19   4.0\n",
            "4    0.0  520.0  2.93   4.0\n"
          ]
        }
      ]
    },
    {
      "cell_type": "code",
      "source": [
        "# 3. Convert 'rank' to dummy variables\n",
        "data = pd.get_dummies(data, columns=['rank'], drop_first=True)\n",
        "\n",
        "# Check new column names\n",
        "print(\"Columns after get_dummies:\", data.columns.tolist())\n"
      ],
      "metadata": {
        "colab": {
          "base_uri": "https://localhost:8080/"
        },
        "id": "k6huxeczMin_",
        "outputId": "4abc554b-db9d-43e3-dc02-8adf7b3e7799"
      },
      "execution_count": 10,
      "outputs": [
        {
          "output_type": "stream",
          "name": "stdout",
          "text": [
            "Columns after get_dummies: ['admit', 'gre', 'gpa', 'rank_2.0', 'rank_3.0', 'rank_4.0']\n"
          ]
        }
      ]
    },
    {
      "cell_type": "code",
      "source": [
        "# 4. Define predictor variables (X) and response variable (y)\n",
        "y = data['admit'].astype(float)  # ensure y is numeric\n",
        "X = data.drop(columns=['admit']).astype(float)  # drop target from predictors\n",
        "\n",
        "# Add constant term for intercept\n",
        "X = sm.add_constant(X)\n"
      ],
      "metadata": {
        "id": "rGR0CsugMlN0"
      },
      "execution_count": 11,
      "outputs": []
    },
    {
      "cell_type": "code",
      "source": [
        "# 5. Fit the logistic regression model\n",
        "model = sm.Logit(y, X)\n",
        "result = model.fit()\n",
        "\n",
        "# Show the model summary\n",
        "print(result.summary())\n"
      ],
      "metadata": {
        "colab": {
          "base_uri": "https://localhost:8080/"
        },
        "id": "1jwXsmfMMoZW",
        "outputId": "f1c55fec-6324-4bb5-ff81-1ab939d31cc8"
      },
      "execution_count": 12,
      "outputs": [
        {
          "output_type": "stream",
          "name": "stdout",
          "text": [
            "Optimization terminated successfully.\n",
            "         Current function value: 0.573147\n",
            "         Iterations 6\n",
            "                           Logit Regression Results                           \n",
            "==============================================================================\n",
            "Dep. Variable:                  admit   No. Observations:                  400\n",
            "Model:                          Logit   Df Residuals:                      394\n",
            "Method:                           MLE   Df Model:                            5\n",
            "Date:                Wed, 30 Jul 2025   Pseudo R-squ.:                 0.08292\n",
            "Time:                        16:40:04   Log-Likelihood:                -229.26\n",
            "converged:                       True   LL-Null:                       -249.99\n",
            "Covariance Type:            nonrobust   LLR p-value:                 7.578e-08\n",
            "==============================================================================\n",
            "                 coef    std err          z      P>|z|      [0.025      0.975]\n",
            "------------------------------------------------------------------------------\n",
            "const         -3.9900      1.140     -3.500      0.000      -6.224      -1.756\n",
            "gre            0.0023      0.001      2.070      0.038       0.000       0.004\n",
            "gpa            0.8040      0.332      2.423      0.015       0.154       1.454\n",
            "rank_2.0      -0.6754      0.316     -2.134      0.033      -1.296      -0.055\n",
            "rank_3.0      -1.3402      0.345     -3.881      0.000      -2.017      -0.663\n",
            "rank_4.0      -1.5515      0.418     -3.713      0.000      -2.370      -0.733\n",
            "==============================================================================\n"
          ]
        }
      ]
    },
    {
      "cell_type": "code",
      "source": [
        "# 6. Compute and print odds ratios\n",
        "print(\"\\nOdds Ratios:\")\n",
        "print(np.exp(result.params))\n"
      ],
      "metadata": {
        "colab": {
          "base_uri": "https://localhost:8080/"
        },
        "id": "eM7ANvTjNQ98",
        "outputId": "9f754c2f-fa39-4c2f-9ad1-131e58314222"
      },
      "execution_count": 13,
      "outputs": [
        {
          "output_type": "stream",
          "name": "stdout",
          "text": [
            "\n",
            "Odds Ratios:\n",
            "const       0.018500\n",
            "gre         1.002267\n",
            "gpa         2.234545\n",
            "rank_2.0    0.508931\n",
            "rank_3.0    0.261792\n",
            "rank_4.0    0.211938\n",
            "dtype: float64\n"
          ]
        }
      ]
    },
    {
      "cell_type": "code",
      "source": [
        "# 7. Predict admission probabilities for all rows\n",
        "predicted_probs = result.predict(X)\n",
        "\n",
        "# Show first 5 predicted probabilities\n",
        "print(\"\\nPredicted Probabilities (first 5):\")\n",
        "print(predicted_probs.head())\n"
      ],
      "metadata": {
        "colab": {
          "base_uri": "https://localhost:8080/"
        },
        "id": "yvOEMhQ1NSmH",
        "outputId": "4cbb8033-21c7-450f-dc2f-61813aaad41a"
      },
      "execution_count": 14,
      "outputs": [
        {
          "output_type": "stream",
          "name": "stdout",
          "text": [
            "\n",
            "Predicted Probabilities (first 5):\n",
            "0    0.172627\n",
            "1    0.292175\n",
            "2    0.738408\n",
            "3    0.178385\n",
            "4    0.118354\n",
            "dtype: float64\n"
          ]
        }
      ]
    },
    {
      "cell_type": "code",
      "source": [
        "# 8. Plot predicted probability distribution\n",
        "sns.histplot(predicted_probs, bins=20, kde=True)\n",
        "plt.xlabel(\"Predicted Probability of Admission\")\n",
        "plt.title(\"Distribution of Predicted Admission Probabilities\")\n",
        "plt.show()\n"
      ],
      "metadata": {
        "colab": {
          "base_uri": "https://localhost:8080/",
          "height": 472
        },
        "id": "WoeDWCB_NVRP",
        "outputId": "a8dd0820-562e-4843-826b-96f43e27d4df"
      },
      "execution_count": 15,
      "outputs": [
        {
          "output_type": "display_data",
          "data": {
            "text/plain": [
              "<Figure size 640x480 with 1 Axes>"
            ],
            "image/png": "[encoded data removed]"
          },
          "metadata": {}
        }
      ]
    }
  ]
}